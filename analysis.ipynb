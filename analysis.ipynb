{
 "cells": [
  {
   "cell_type": "code",
   "execution_count": 151,
   "metadata": {},
   "outputs": [],
   "source": [
    "import pandas as pd\n",
    "import numpy as np\n",
    "import matplotlib.pyplot as plt\n",
    "from scipy.stats import kurtosis\n",
    "%matplotlib inline"
   ]
  },
  {
   "cell_type": "code",
   "execution_count": 152,
   "metadata": {},
   "outputs": [
    {
     "data": {
      "text/html": [
       "<div>\n",
       "<style scoped>\n",
       "    .dataframe tbody tr th:only-of-type {\n",
       "        vertical-align: middle;\n",
       "    }\n",
       "\n",
       "    .dataframe tbody tr th {\n",
       "        vertical-align: top;\n",
       "    }\n",
       "\n",
       "    .dataframe thead th {\n",
       "        text-align: right;\n",
       "    }\n",
       "</style>\n",
       "<table border=\"1\" class=\"dataframe\">\n",
       "  <thead>\n",
       "    <tr style=\"text-align: right;\">\n",
       "      <th></th>\n",
       "      <th>return_value</th>\n",
       "      <th>dividend_size</th>\n",
       "      <th>divisor_size</th>\n",
       "      <th>runtime</th>\n",
       "    </tr>\n",
       "  </thead>\n",
       "  <tbody>\n",
       "    <tr>\n",
       "      <th>0</th>\n",
       "      <td>1</td>\n",
       "      <td>10</td>\n",
       "      <td>10</td>\n",
       "      <td>0</td>\n",
       "    </tr>\n",
       "    <tr>\n",
       "      <th>1</th>\n",
       "      <td>1</td>\n",
       "      <td>12</td>\n",
       "      <td>10</td>\n",
       "      <td>0</td>\n",
       "    </tr>\n",
       "    <tr>\n",
       "      <th>2</th>\n",
       "      <td>1</td>\n",
       "      <td>12</td>\n",
       "      <td>10</td>\n",
       "      <td>0</td>\n",
       "    </tr>\n",
       "    <tr>\n",
       "      <th>3</th>\n",
       "      <td>1</td>\n",
       "      <td>13</td>\n",
       "      <td>10</td>\n",
       "      <td>0</td>\n",
       "    </tr>\n",
       "    <tr>\n",
       "      <th>4</th>\n",
       "      <td>1</td>\n",
       "      <td>15</td>\n",
       "      <td>10</td>\n",
       "      <td>0</td>\n",
       "    </tr>\n",
       "    <tr>\n",
       "      <th>...</th>\n",
       "      <td>...</td>\n",
       "      <td>...</td>\n",
       "      <td>...</td>\n",
       "      <td>...</td>\n",
       "    </tr>\n",
       "    <tr>\n",
       "      <th>9985</th>\n",
       "      <td>1</td>\n",
       "      <td>9995</td>\n",
       "      <td>10</td>\n",
       "      <td>18</td>\n",
       "    </tr>\n",
       "    <tr>\n",
       "      <th>9986</th>\n",
       "      <td>1</td>\n",
       "      <td>9997</td>\n",
       "      <td>10</td>\n",
       "      <td>18</td>\n",
       "    </tr>\n",
       "    <tr>\n",
       "      <th>9987</th>\n",
       "      <td>1</td>\n",
       "      <td>9998</td>\n",
       "      <td>10</td>\n",
       "      <td>18</td>\n",
       "    </tr>\n",
       "    <tr>\n",
       "      <th>9988</th>\n",
       "      <td>1</td>\n",
       "      <td>9999</td>\n",
       "      <td>10</td>\n",
       "      <td>19</td>\n",
       "    </tr>\n",
       "    <tr>\n",
       "      <th>9989</th>\n",
       "      <td>1</td>\n",
       "      <td>10000</td>\n",
       "      <td>10</td>\n",
       "      <td>18</td>\n",
       "    </tr>\n",
       "  </tbody>\n",
       "</table>\n",
       "<p>9990 rows × 4 columns</p>\n",
       "</div>"
      ],
      "text/plain": [
       "      return_value  dividend_size  divisor_size  runtime\n",
       "0                1             10            10        0\n",
       "1                1             12            10        0\n",
       "2                1             12            10        0\n",
       "3                1             13            10        0\n",
       "4                1             15            10        0\n",
       "...            ...            ...           ...      ...\n",
       "9985             1           9995            10       18\n",
       "9986             1           9997            10       18\n",
       "9987             1           9998            10       18\n",
       "9988             1           9999            10       19\n",
       "9989             1          10000            10       18\n",
       "\n",
       "[9990 rows x 4 columns]"
      ]
     },
     "execution_count": 152,
     "metadata": {},
     "output_type": "execute_result"
    }
   ],
   "source": [
    "dividend_df = pd.read_csv('logs/dividend_log.txt', header=None)\n",
    "dividend_df = pd.DataFrame(dividend_df[0].str.split().tolist()).astype(int)\n",
    "dividend_df.columns = ['return_value', 'dividend_size', 'divisor_size', 'runtime']\n",
    "dividend_df"
   ]
  },
  {
   "cell_type": "code",
   "execution_count": 153,
   "metadata": {},
   "outputs": [],
   "source": [
    "def predict(poly, data, order=2): \n",
    "    return sum([poly[i]*(data**(2 - i)) for i in range(len(poly) - 1)]) + poly[-1]"
   ]
  },
  {
   "cell_type": "code",
   "execution_count": 154,
   "metadata": {},
   "outputs": [
    {
     "name": "stdout",
     "output_type": "stream",
     "text": [
      "0.00189x^1 + -0.38735\n"
     ]
    }
   ],
   "source": [
    "fit = np.polyfit(dividend_df['dividend_size'], dividend_df['runtime'], 2)\n",
    "order_map = dict(zip(fit, reversed(list(range(len(fit))))))\n",
    "order_map = {round(term, 5): order for term, order in order_map.items()}\n",
    "order_map = {k: v for k, v in order_map.items() if abs(k) > 0}\n",
    "print(' + '.join(f'{term}{f\"x^{order}\" if order != 0 else \"\"}' for term, order in order_map.items()))"
   ]
  },
  {
   "cell_type": "code",
   "execution_count": 155,
   "metadata": {},
   "outputs": [
    {
     "data": {
      "text/plain": [
       "[<matplotlib.lines.Line2D at 0x11f681820>]"
      ]
     },
     "execution_count": 155,
     "metadata": {},
     "output_type": "execute_result"
    },
    {
     "data": {
      "image/png": "[encoded data removed]",
      "text/plain": [
       "<Figure size 432x288 with 1 Axes>"
      ]
     },
     "metadata": {
      "needs_background": "light"
     },
     "output_type": "display_data"
    }
   ],
   "source": [
    "dividend_df['regression'] = dividend_df['dividend_size'].map(lambda x: predict(fit, x)).tolist()\n",
    "plt.scatter(dividend_df['dividend_size'], dividend_df['runtime'], color='red')\n",
    "plt.plot(dividend_df['dividend_size'], dividend_df['regression'], color='blue')"
   ]
  },
  {
   "cell_type": "code",
   "execution_count": 156,
   "metadata": {},
   "outputs": [
    {
     "name": "stderr",
     "output_type": "stream",
     "text": [
      "<ipython-input-156-69cd2f3aa961>:2: SettingWithCopyWarning: \n",
      "A value is trying to be set on a copy of a slice from a DataFrame.\n",
      "Try using .loc[row_indexer,col_indexer] = value instead\n",
      "\n",
      "See the caveats in the documentation: https://pandas.pydata.org/pandas-docs/stable/user_guide/indexing.html#returning-a-view-versus-a-copy\n",
      "  dividend_dist['pct_err'] = 100*(dividend_df['runtime'] - dividend_df['regression'])/dividend_df['regression']\n"
     ]
    },
    {
     "data": {
      "text/plain": [
       "(array([2.900e+01, 3.100e+01, 3.600e+01, 5.200e+01, 7.100e+01, 1.550e+02,\n",
       "        3.040e+02, 9.910e+02, 2.512e+03, 2.476e+03, 1.262e+03, 4.940e+02,\n",
       "        2.930e+02, 2.050e+02, 1.300e+02, 8.600e+01, 6.700e+01, 5.100e+01,\n",
       "        3.000e+01, 3.900e+01, 2.500e+01, 2.500e+01, 1.700e+01, 1.100e+01,\n",
       "        1.600e+01, 1.900e+01, 1.000e+01, 8.000e+00, 1.000e+01, 1.300e+01,\n",
       "        1.000e+01, 9.000e+00, 4.000e+00, 0.000e+00, 5.000e+00, 6.000e+00,\n",
       "        2.000e+00, 3.000e+00, 1.000e+00, 1.000e+00, 0.000e+00, 2.000e+00,\n",
       "        1.000e+00, 1.000e+00, 0.000e+00, 0.000e+00, 1.000e+00, 0.000e+00,\n",
       "        0.000e+00, 2.000e+00, 0.000e+00, 0.000e+00, 0.000e+00, 1.000e+00,\n",
       "        0.000e+00, 0.000e+00, 0.000e+00, 4.000e+00, 0.000e+00, 0.000e+00,\n",
       "        0.000e+00, 1.000e+00, 0.000e+00, 0.000e+00, 0.000e+00, 0.000e+00,\n",
       "        0.000e+00, 0.000e+00, 1.000e+00, 0.000e+00, 0.000e+00, 0.000e+00,\n",
       "        0.000e+00, 0.000e+00, 0.000e+00, 1.000e+00, 0.000e+00, 0.000e+00,\n",
       "        0.000e+00, 0.000e+00, 0.000e+00, 0.000e+00, 0.000e+00, 0.000e+00,\n",
       "        0.000e+00, 0.000e+00, 0.000e+00, 0.000e+00, 0.000e+00, 0.000e+00,\n",
       "        0.000e+00, 0.000e+00, 0.000e+00, 0.000e+00, 0.000e+00, 0.000e+00,\n",
       "        0.000e+00, 0.000e+00, 0.000e+00, 1.000e+00]),\n",
       " array([-36.61805298, -32.81246539, -29.00687779, -25.20129019,\n",
       "        -21.3957026 , -17.590115  , -13.7845274 ,  -9.97893981,\n",
       "         -6.17335221,  -2.36776461,   1.43782298,   5.24341058,\n",
       "          9.04899818,  12.85458577,  16.66017337,  20.46576097,\n",
       "         24.27134856,  28.07693616,  31.88252376,  35.68811135,\n",
       "         39.49369895,  43.29928655,  47.10487414,  50.91046174,\n",
       "         54.71604934,  58.52163693,  62.32722453,  66.13281213,\n",
       "         69.93839972,  73.74398732,  77.54957492,  81.35516251,\n",
       "         85.16075011,  88.96633771,  92.7719253 ,  96.5775129 ,\n",
       "        100.3831005 , 104.18868809, 107.99427569, 111.79986329,\n",
       "        115.60545088, 119.41103848, 123.21662607, 127.02221367,\n",
       "        130.82780127, 134.63338886, 138.43897646, 142.24456406,\n",
       "        146.05015165, 149.85573925, 153.66132685, 157.46691444,\n",
       "        161.27250204, 165.07808964, 168.88367723, 172.68926483,\n",
       "        176.49485243, 180.30044002, 184.10602762, 187.91161522,\n",
       "        191.71720281, 195.52279041, 199.32837801, 203.1339656 ,\n",
       "        206.9395532 , 210.7451408 , 214.55072839, 218.35631599,\n",
       "        222.16190359, 225.96749118, 229.77307878, 233.57866638,\n",
       "        237.38425397, 241.18984157, 244.99542917, 248.80101676,\n",
       "        252.60660436, 256.41219196, 260.21777955, 264.02336715,\n",
       "        267.82895475, 271.63454234, 275.44012994, 279.24571753,\n",
       "        283.05130513, 286.85689273, 290.66248032, 294.46806792,\n",
       "        298.27365552, 302.07924311, 305.88483071, 309.69041831,\n",
       "        313.4960059 , 317.3015935 , 321.1071811 , 324.91276869,\n",
       "        328.71835629, 332.52394389, 336.32953148, 340.13511908,\n",
       "        343.94070668]),\n",
       " <a list of 100 Patch objects>)"
      ]
     },
     "execution_count": 156,
     "metadata": {},
     "output_type": "execute_result"
    },
    {
     "data": {
      "image/png": "[encoded data removed]",
      "text/plain": [
       "<Figure size 432x288 with 1 Axes>"
      ]
     },
     "metadata": {
      "needs_background": "light"
     },
     "output_type": "display_data"
    }
   ],
   "source": [
    "dividend_dist = dividend_df.loc[dividend_df['runtime'] != 0]\n",
    "dividend_dist['pct_err'] = 100*(dividend_df['runtime'] - dividend_df['regression'])/dividend_df['regression']\n",
    "plt.hist(dividend_dist['pct_err'], bins=100)"
   ]
  },
  {
   "cell_type": "code",
   "execution_count": 157,
   "metadata": {},
   "outputs": [
    {
     "data": {
      "text/plain": [
       "70.66361836124753"
      ]
     },
     "execution_count": 157,
     "metadata": {},
     "output_type": "execute_result"
    }
   ],
   "source": [
    "kurtosis(dividend_dist['pct_err'])"
   ]
  },
  {
   "cell_type": "code",
   "execution_count": 158,
   "metadata": {},
   "outputs": [
    {
     "data": {
      "text/html": [
       "<div>\n",
       "<style scoped>\n",
       "    .dataframe tbody tr th:only-of-type {\n",
       "        vertical-align: middle;\n",
       "    }\n",
       "\n",
       "    .dataframe tbody tr th {\n",
       "        vertical-align: top;\n",
       "    }\n",
       "\n",
       "    .dataframe thead th {\n",
       "        text-align: right;\n",
       "    }\n",
       "</style>\n",
       "<table border=\"1\" class=\"dataframe\">\n",
       "  <thead>\n",
       "    <tr style=\"text-align: right;\">\n",
       "      <th></th>\n",
       "      <th>return_value</th>\n",
       "      <th>dividend_size</th>\n",
       "      <th>divisor_size</th>\n",
       "      <th>runtime</th>\n",
       "    </tr>\n",
       "  </thead>\n",
       "  <tbody>\n",
       "    <tr>\n",
       "      <th>0</th>\n",
       "      <td>1</td>\n",
       "      <td>10000</td>\n",
       "      <td>2</td>\n",
       "      <td>6</td>\n",
       "    </tr>\n",
       "    <tr>\n",
       "      <th>1</th>\n",
       "      <td>1</td>\n",
       "      <td>10000</td>\n",
       "      <td>3</td>\n",
       "      <td>7</td>\n",
       "    </tr>\n",
       "    <tr>\n",
       "      <th>2</th>\n",
       "      <td>1</td>\n",
       "      <td>10000</td>\n",
       "      <td>4</td>\n",
       "      <td>9</td>\n",
       "    </tr>\n",
       "    <tr>\n",
       "      <th>3</th>\n",
       "      <td>1</td>\n",
       "      <td>10000</td>\n",
       "      <td>5</td>\n",
       "      <td>10</td>\n",
       "    </tr>\n",
       "    <tr>\n",
       "      <th>4</th>\n",
       "      <td>1</td>\n",
       "      <td>10000</td>\n",
       "      <td>6</td>\n",
       "      <td>12</td>\n",
       "    </tr>\n",
       "    <tr>\n",
       "      <th>...</th>\n",
       "      <td>...</td>\n",
       "      <td>...</td>\n",
       "      <td>...</td>\n",
       "      <td>...</td>\n",
       "    </tr>\n",
       "    <tr>\n",
       "      <th>9994</th>\n",
       "      <td>1</td>\n",
       "      <td>10000</td>\n",
       "      <td>9996</td>\n",
       "      <td>92</td>\n",
       "    </tr>\n",
       "    <tr>\n",
       "      <th>9995</th>\n",
       "      <td>1</td>\n",
       "      <td>10000</td>\n",
       "      <td>9997</td>\n",
       "      <td>92</td>\n",
       "    </tr>\n",
       "    <tr>\n",
       "      <th>9996</th>\n",
       "      <td>1</td>\n",
       "      <td>10000</td>\n",
       "      <td>9998</td>\n",
       "      <td>89</td>\n",
       "    </tr>\n",
       "    <tr>\n",
       "      <th>9997</th>\n",
       "      <td>1</td>\n",
       "      <td>10000</td>\n",
       "      <td>9999</td>\n",
       "      <td>89</td>\n",
       "    </tr>\n",
       "    <tr>\n",
       "      <th>9998</th>\n",
       "      <td>0</td>\n",
       "      <td>10000</td>\n",
       "      <td>10000</td>\n",
       "      <td>0</td>\n",
       "    </tr>\n",
       "  </tbody>\n",
       "</table>\n",
       "<p>9999 rows × 4 columns</p>\n",
       "</div>"
      ],
      "text/plain": [
       "      return_value  dividend_size  divisor_size  runtime\n",
       "0                1          10000             2        6\n",
       "1                1          10000             3        7\n",
       "2                1          10000             4        9\n",
       "3                1          10000             5       10\n",
       "4                1          10000             6       12\n",
       "...            ...            ...           ...      ...\n",
       "9994             1          10000          9996       92\n",
       "9995             1          10000          9997       92\n",
       "9996             1          10000          9998       89\n",
       "9997             1          10000          9999       89\n",
       "9998             0          10000         10000        0\n",
       "\n",
       "[9999 rows x 4 columns]"
      ]
     },
     "execution_count": 158,
     "metadata": {},
     "output_type": "execute_result"
    }
   ],
   "source": [
    "divisor_df = pd.read_csv('logs/divisor_log.txt', header=None)\n",
    "divisor_df = pd.DataFrame(divisor_df[0].str.split().tolist()).astype(int)\n",
    "divisor_df.columns = ['return_value', 'dividend_size', 'divisor_size', 'runtime']\n",
    "divisor_df"
   ]
  },
  {
   "cell_type": "code",
   "execution_count": 159,
   "metadata": {},
   "outputs": [
    {
     "name": "stdout",
     "output_type": "stream",
     "text": [
      "-0.00015x^2 + 1.54136x^1 + -11.27207\n"
     ]
    }
   ],
   "source": [
    "fit = np.polyfit(divisor_df['divisor_size'], divisor_df['runtime'], 2)\n",
    "order_map = dict(zip(fit, reversed(list(range(len(fit))))))\n",
    "order_map = {round(term, 5): order for term, order in order_map.items()}\n",
    "order_map = {k: v for k, v in order_map.items() if abs(k) > 0}\n",
    "print(' + '.join(f'{term}{f\"x^{order}\" if order != 0 else \"\"}' for term, order in order_map.items()))"
   ]
  },
  {
   "cell_type": "code",
   "execution_count": 160,
   "metadata": {},
   "outputs": [
    {
     "data": {
      "text/plain": [
       "[<matplotlib.lines.Line2D at 0x11ed128e0>]"
      ]
     },
     "execution_count": 160,
     "metadata": {},
     "output_type": "execute_result"
    },
    {
     "data": {
      "image/png": "[encoded data removed]",
      "text/plain": [
       "<Figure size 432x288 with 1 Axes>"
      ]
     },
     "metadata": {
      "needs_background": "light"
     },
     "output_type": "display_data"
    }
   ],
   "source": [
    "divisor_df['regression'] = divisor_df['divisor_size'].map(lambda x: predict(fit, x)).tolist()\n",
    "plt.scatter(divisor_df['divisor_size'], divisor_df['runtime'], color='orange')\n",
    "plt.plot(divisor_df['divisor_size'], divisor_df['regression'], color='green')"
   ]
  },
  {
   "cell_type": "code",
   "execution_count": 161,
   "metadata": {},
   "outputs": [
    {
     "name": "stderr",
     "output_type": "stream",
     "text": [
      "<ipython-input-161-2109d807a33a>:2: SettingWithCopyWarning: \n",
      "A value is trying to be set on a copy of a slice from a DataFrame.\n",
      "Try using .loc[row_indexer,col_indexer] = value instead\n",
      "\n",
      "See the caveats in the documentation: https://pandas.pydata.org/pandas-docs/stable/user_guide/indexing.html#returning-a-view-versus-a-copy\n",
      "  divisor_dist['pct_err'] = 100*(divisor_dist['runtime'] - divisor_dist['regression'])/divisor_dist['regression']\n"
     ]
    },
    {
     "data": {
      "text/plain": [
       "(array([1.00e+00, 0.00e+00, 0.00e+00, 0.00e+00, 0.00e+00, 0.00e+00,\n",
       "        0.00e+00, 0.00e+00, 0.00e+00, 0.00e+00, 0.00e+00, 0.00e+00,\n",
       "        0.00e+00, 0.00e+00, 0.00e+00, 0.00e+00, 0.00e+00, 0.00e+00,\n",
       "        0.00e+00, 0.00e+00, 0.00e+00, 0.00e+00, 0.00e+00, 0.00e+00,\n",
       "        0.00e+00, 1.00e+00, 0.00e+00, 0.00e+00, 0.00e+00, 1.00e+00,\n",
       "        1.00e+00, 2.00e+00, 0.00e+00, 9.89e+03, 9.10e+01, 5.00e+00,\n",
       "        2.00e+00, 2.00e+00, 0.00e+00, 0.00e+00, 1.00e+00, 0.00e+00,\n",
       "        0.00e+00, 0.00e+00, 0.00e+00, 0.00e+00, 0.00e+00, 0.00e+00,\n",
       "        0.00e+00, 1.00e+00]),\n",
       " array([-2752.78850115, -2671.13434489, -2589.48018863, -2507.82603236,\n",
       "        -2426.1718761 , -2344.51771984, -2262.86356357, -2181.20940731,\n",
       "        -2099.55525105, -2017.90109478, -1936.24693852, -1854.59278226,\n",
       "        -1772.93862599, -1691.28446973, -1609.63031347, -1527.97615721,\n",
       "        -1446.32200094, -1364.66784468, -1283.01368842, -1201.35953215,\n",
       "        -1119.70537589, -1038.05121963,  -956.39706336,  -874.7429071 ,\n",
       "         -793.08875084,  -711.43459457,  -629.78043831,  -548.12628205,\n",
       "         -466.47212579,  -384.81796952,  -303.16381326,  -221.509657  ,\n",
       "         -139.85550073,   -58.20134447,    23.45281179,   105.10696806,\n",
       "          186.76112432,   268.41528058,   350.06943685,   431.72359311,\n",
       "          513.37774937,   595.03190564,   676.6860619 ,   758.34021816,\n",
       "          839.99437442,   921.64853069,  1003.30268695,  1084.95684321,\n",
       "         1166.61099948,  1248.26515574,  1329.919312  ]),\n",
       " <a list of 50 Patch objects>)"
      ]
     },
     "execution_count": 161,
     "metadata": {},
     "output_type": "execute_result"
    },
    {
     "data": {
      "image/png": "[encoded data removed]",
      "text/plain": [
       "<Figure size 432x288 with 1 Axes>"
      ]
     },
     "metadata": {
      "needs_background": "light"
     },
     "output_type": "display_data"
    }
   ],
   "source": [
    "divisor_dist = divisor_df.loc[divisor_df['runtime'] != 0]\n",
    "divisor_dist['pct_err'] = 100*(divisor_dist['runtime'] - divisor_dist['regression'])/divisor_dist['regression']\n",
    "plt.hist(divisor_dist['pct_err'], bins=50)"
   ]
  },
  {
   "cell_type": "code",
   "execution_count": 163,
   "metadata": {},
   "outputs": [
    {
     "data": {
      "text/plain": [
       "<matplotlib.collections.PathCollection at 0x11fc5e220>"
      ]
     },
     "execution_count": 163,
     "metadata": {},
     "output_type": "execute_result"
    },
    {
     "data": {
      "image/png": "[encoded data removed]",
      "text/plain": [
       "<Figure size 432x288 with 1 Axes>"
      ]
     },
     "metadata": {
      "needs_background": "light"
     },
     "output_type": "display_data"
    }
   ],
   "source": [
    "plt.scatter(divisor_df['divisor_size'], divisor_df['runtime'], color='red')\n",
    "plt.scatter(dividend_df['dividend_size'], dividend_df['runtime'])\n",
    "# plt.plot(dividend_df['dividend_size'], /divisor_df['regression'], color='green')\n"
   ]
  },
  {
   "cell_type": "code",
   "execution_count": null,
   "metadata": {},
   "outputs": [],
   "source": []
  }
 ],
 "metadata": {
  "kernelspec": {
   "display_name": "Python 3",
   "language": "python",
   "name": "python3"
  },
  "language_info": {
   "codemirror_mode": {
    "name": "ipython",
    "version": 3
   },
   "file_extension": ".py",
   "mimetype": "text/x-python",
   "name": "python",
   "nbconvert_exporter": "python",
   "pygments_lexer": "ipython3",
   "version": "3.8.3"
  }
 },
 "nbformat": 4,
 "nbformat_minor": 4
}
