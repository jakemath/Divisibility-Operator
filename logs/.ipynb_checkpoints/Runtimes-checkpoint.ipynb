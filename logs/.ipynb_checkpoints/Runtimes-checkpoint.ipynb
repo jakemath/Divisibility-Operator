{
 "cells": [
  {
   "cell_type": "markdown",
   "metadata": {},
   "source": [
    "# Statistical Analysis of Empirical Runtime Data\n",
    "We will analyze two datasets to evaluate the empirical behavior of the algorithm: one in which the divisor size $m$ is \n",
    "held constant and the dividend size $n$ varies, and the other in which the dividend size $n$ is held constant and the\n",
    "divisor size $m$ varies.\n",
    "\n",
    "Assuming arithmetic operations have complexity $\\mathcal{O}(m)$, we expect to see behavior approximately modeled by \n",
    "\n",
    "$$F_1(n,m) = m(n-m) = nm - m^2$$\n",
    "\n",
    "For constant $m$, we expect to observe a positive linear relationship between $n$ and runtime:\n",
    "\n",
    "$$F(n) \\approx n$$\n",
    "\n",
    "For constant $n$, we expect to observe an inverse quadratic relationship between $m$ and runtime:\n",
    "\n",
    "$$F(m) \\approx - m^2 + m$$"
   ]
  },
  {
   "cell_type": "code",
   "execution_count": 218,
   "metadata": {},
   "outputs": [],
   "source": [
    "import pandas as pd\n",
    "import numpy as np\n",
    "from matplotlib import pyplot as plt\n",
    "from scipy.stats import skew, kurtosis\n",
    "import statsmodels.api as sm\n",
    "import statsmodels.formula.api as smf\n",
    "%matplotlib inline"
   ]
  },
  {
   "cell_type": "markdown",
   "metadata": {},
   "source": [
    "# Variable Dividend Size: $n = \\{12, 13, ..., 10000\\}, m = 10$"
   ]
  },
  {
   "cell_type": "code",
   "execution_count": 219,
   "metadata": {},
   "outputs": [
    {
     "data": {
      "text/html": [
       "<div>\n",
       "<style scoped>\n",
       "    .dataframe tbody tr th:only-of-type {\n",
       "        vertical-align: middle;\n",
       "    }\n",
       "\n",
       "    .dataframe tbody tr th {\n",
       "        vertical-align: top;\n",
       "    }\n",
       "\n",
       "    .dataframe thead th {\n",
       "        text-align: right;\n",
       "    }\n",
       "</style>\n",
       "<table border=\"1\" class=\"dataframe\">\n",
       "  <thead>\n",
       "    <tr style=\"text-align: right;\">\n",
       "      <th></th>\n",
       "      <th>return_value</th>\n",
       "      <th>dividend_size</th>\n",
       "      <th>divisor_size</th>\n",
       "      <th>runtime</th>\n",
       "    </tr>\n",
       "  </thead>\n",
       "  <tbody>\n",
       "    <tr>\n",
       "      <th>0</th>\n",
       "      <td>1</td>\n",
       "      <td>12</td>\n",
       "      <td>10</td>\n",
       "      <td>0</td>\n",
       "    </tr>\n",
       "    <tr>\n",
       "      <th>1</th>\n",
       "      <td>1</td>\n",
       "      <td>12</td>\n",
       "      <td>10</td>\n",
       "      <td>0</td>\n",
       "    </tr>\n",
       "    <tr>\n",
       "      <th>2</th>\n",
       "      <td>1</td>\n",
       "      <td>13</td>\n",
       "      <td>10</td>\n",
       "      <td>0</td>\n",
       "    </tr>\n",
       "    <tr>\n",
       "      <th>3</th>\n",
       "      <td>1</td>\n",
       "      <td>15</td>\n",
       "      <td>10</td>\n",
       "      <td>0</td>\n",
       "    </tr>\n",
       "    <tr>\n",
       "      <th>4</th>\n",
       "      <td>1</td>\n",
       "      <td>16</td>\n",
       "      <td>10</td>\n",
       "      <td>0</td>\n",
       "    </tr>\n",
       "    <tr>\n",
       "      <th>...</th>\n",
       "      <td>...</td>\n",
       "      <td>...</td>\n",
       "      <td>...</td>\n",
       "      <td>...</td>\n",
       "    </tr>\n",
       "    <tr>\n",
       "      <th>9984</th>\n",
       "      <td>1</td>\n",
       "      <td>9995</td>\n",
       "      <td>10</td>\n",
       "      <td>18</td>\n",
       "    </tr>\n",
       "    <tr>\n",
       "      <th>9985</th>\n",
       "      <td>1</td>\n",
       "      <td>9997</td>\n",
       "      <td>10</td>\n",
       "      <td>18</td>\n",
       "    </tr>\n",
       "    <tr>\n",
       "      <th>9986</th>\n",
       "      <td>1</td>\n",
       "      <td>9998</td>\n",
       "      <td>10</td>\n",
       "      <td>18</td>\n",
       "    </tr>\n",
       "    <tr>\n",
       "      <th>9987</th>\n",
       "      <td>1</td>\n",
       "      <td>9999</td>\n",
       "      <td>10</td>\n",
       "      <td>19</td>\n",
       "    </tr>\n",
       "    <tr>\n",
       "      <th>9988</th>\n",
       "      <td>1</td>\n",
       "      <td>10000</td>\n",
       "      <td>10</td>\n",
       "      <td>18</td>\n",
       "    </tr>\n",
       "  </tbody>\n",
       "</table>\n",
       "<p>9989 rows × 4 columns</p>\n",
       "</div>"
      ],
      "text/plain": [
       "      return_value  dividend_size  divisor_size  runtime\n",
       "0                1             12            10        0\n",
       "1                1             12            10        0\n",
       "2                1             13            10        0\n",
       "3                1             15            10        0\n",
       "4                1             16            10        0\n",
       "...            ...            ...           ...      ...\n",
       "9984             1           9995            10       18\n",
       "9985             1           9997            10       18\n",
       "9986             1           9998            10       18\n",
       "9987             1           9999            10       19\n",
       "9988             1          10000            10       18\n",
       "\n",
       "[9989 rows x 4 columns]"
      ]
     },
     "execution_count": 219,
     "metadata": {},
     "output_type": "execute_result"
    }
   ],
   "source": [
    "dividend_df = pd.read_csv('dividend_log.txt', header=None)\n",
    "dividend_df = pd.DataFrame(dividend_df[0].str.split().tolist()).astype(int)\n",
    "dividend_df.columns = ['return_value', 'dividend_size', 'divisor_size', 'runtime']\n",
    "dividend_df"
   ]
  },
  {
   "cell_type": "markdown",
   "metadata": {},
   "source": [
    "## Fit 1st Order Polynomial to Dataset - $F(n) \\approx n$"
   ]
  },
  {
   "cell_type": "markdown",
   "metadata": {},
   "source": [
    "## Plot with $F(n)$\n",
    "We observe a positive, approximately linear relationship with a fair amount of longer runtimes."
   ]
  },
  {
   "cell_type": "code",
   "execution_count": 232,
   "metadata": {},
   "outputs": [
    {
     "name": "stdout",
     "output_type": "stream",
     "text": [
      "                            OLS Regression Results                            \n",
      "==============================================================================\n",
      "Dep. Variable:                runtime   R-squared:                       0.956\n",
      "Model:                            OLS   Adj. R-squared:                  0.956\n",
      "Method:                 Least Squares   F-statistic:                 1.072e+05\n",
      "Date:                Sat, 20 Feb 2021   Prob (F-statistic):               0.00\n",
      "Time:                        17:07:11   Log-Likelihood:                -15698.\n",
      "No. Observations:                9989   AIC:                         3.140e+04\n",
      "Df Residuals:                    9986   BIC:                         3.142e+04\n",
      "Df Model:                           2                                         \n",
      "Covariance Type:            nonrobust                                         \n",
      "========================================================================================\n",
      "                           coef    std err          t      P>|t|      [0.025      0.975]\n",
      "----------------------------------------------------------------------------------------\n",
      "Intercept               -0.3495      0.035     -9.950      0.000      -0.418      -0.281\n",
      "dividend_size            0.0019   1.62e-05    115.441      0.000       0.002       0.002\n",
      "dividend_size_square  1.544e-10   1.57e-09      0.099      0.922   -2.92e-09    3.23e-09\n",
      "==============================================================================\n",
      "Omnibus:                    16695.081   Durbin-Watson:                   1.249\n",
      "Prob(Omnibus):                  0.000   Jarque-Bera (JB):         17764776.881\n",
      "Skew:                          11.245   Prob(JB):                         0.00\n",
      "Kurtosis:                     208.370   Cond. No.                     1.35e+08\n",
      "==============================================================================\n",
      "\n",
      "Notes:\n",
      "[1] Standard Errors assume that the covariance matrix of the errors is correctly specified.\n",
      "[2] The condition number is large, 1.35e+08. This might indicate that there are\n",
      "strong multicollinearity or other numerical problems.\n"
     ]
    },
    {
     "data": {
      "image/png": "[encoded data removed]",
      "text/plain": [
       "<Figure size 432x288 with 1 Axes>"
      ]
     },
     "metadata": {
      "needs_background": "light"
     },
     "output_type": "display_data"
    }
   ],
   "source": [
    "dividend_df['dividend_size_square'] = dividend_df['dividend_size']**2\n",
    "results = smf.ols(formula='runtime ~ dividend_size + dividend_size_square', data=dividend_df).fit()\n",
    "dividend_df['regression'] = results.fittedvalues\n",
    "plt.scatter(dividend_df['dividend_size'], dividend_df['runtime'], color='red') \n",
    "plt.title('F(n): m = 10, n = 12 to 10000')\n",
    "plt.xlabel('Dividend Size (n)')\n",
    "plt.ylabel('Runtime (ms)')\n",
    "plt.plot(dividend_df['dividend_size'], dividend_df['regression'], color='blue')\n",
    "print(results.summary())\n",
    "plt.savefig('dividend.png')"
   ]
  },
  {
   "cell_type": "code",
   "execution_count": 221,
   "metadata": {},
   "outputs": [
    {
     "data": {
      "text/plain": [
       "Intercept               -28.566378\n",
       "dividend_size           309.439597\n",
       "dividend_size_square     -4.949370\n",
       "dtype: float64"
      ]
     },
     "execution_count": 221,
     "metadata": {},
     "output_type": "execute_result"
    }
   ],
   "source": [
    "results.tvalues"
   ]
  },
  {
   "cell_type": "markdown",
   "metadata": {},
   "source": [
    "## Evaluate $F(n)$ Error Behavior"
   ]
  },
  {
   "cell_type": "code",
   "execution_count": 223,
   "metadata": {},
   "outputs": [
    {
     "data": {
      "image/png": "[encoded data removed]",
      "text/plain": [
       "<Figure size 432x288 with 1 Axes>"
      ]
     },
     "metadata": {
      "needs_background": "light"
     },
     "output_type": "display_data"
    }
   ],
   "source": [
    "dividend_df['runtime'] = dividend_df['runtime'].replace(0, .1)  # Avoid division by 0\n",
    "dividend_df['pct_err'] = 100*(dividend_df['regression'] - dividend_df['runtime'])/dividend_df['runtime']\n",
    "hist = np.histogram(dividend_df['pct_err'], 100)\n",
    "plt.hist(dividend_df['pct_err'], bins=100)\n",
    "plt.title('Dividend Regression Percent Percent Error Histogram')\n",
    "plt.xlabel('Percent Error')\n",
    "plt.ylabel('Occurrences')\n",
    "plt.savefig('dividend_hist.png')"
   ]
  },
  {
   "cell_type": "markdown",
   "metadata": {},
   "source": [
    "## Sample Statistical Moments\n",
    "Sample moments indicate high peak with large tails, and slight negative skew - a tendency to underestimate runtimes."
   ]
  },
  {
   "cell_type": "code",
   "execution_count": 224,
   "metadata": {},
   "outputs": [
    {
     "name": "stdout",
     "output_type": "stream",
     "text": [
      "1st ORDER REGRESSION PERCENT ERROR:\n",
      "Mean = -1.535\n",
      "Variance = 3090.976\n",
      "Skew = -0.716\n",
      "Kurtosis = 33.749\n"
     ]
    }
   ],
   "source": [
    "print('1st ORDER REGRESSION PERCENT ERROR:')\n",
    "print(f'Mean = {round(np.mean(dividend_df[\"pct_err\"]), 3)}')\n",
    "print(f'Variance = {round(np.var(dividend_df[\"pct_err\"]), 3)}')\n",
    "print(f'Skew = {round(skew(dividend_df[\"pct_err\"]), 3)}')\n",
    "print(f'Kurtosis = {round(kurtosis(dividend_df[\"pct_err\"]), 3)}')"
   ]
  },
  {
   "cell_type": "code",
   "execution_count": 225,
   "metadata": {},
   "outputs": [
    {
     "data": {
      "text/plain": [
       "count    9989.000000\n",
       "mean       -1.535127\n",
       "std        55.599333\n",
       "min      -450.931209\n",
       "25%        -4.180903\n",
       "50%        -0.052660\n",
       "75%         3.724347\n",
       "max       443.750326\n",
       "Name: pct_err, dtype: float64"
      ]
     },
     "execution_count": 225,
     "metadata": {},
     "output_type": "execute_result"
    }
   ],
   "source": [
    "dividend_df['pct_err'].describe()"
   ]
  },
  {
   "cell_type": "markdown",
   "metadata": {},
   "source": [
    "# Variable Divisor Size: $m = \\{2, 3, ..., 9999\\}, n = 10000$"
   ]
  },
  {
   "cell_type": "code",
   "execution_count": 226,
   "metadata": {},
   "outputs": [
    {
     "data": {
      "text/html": [
       "<div>\n",
       "<style scoped>\n",
       "    .dataframe tbody tr th:only-of-type {\n",
       "        vertical-align: middle;\n",
       "    }\n",
       "\n",
       "    .dataframe tbody tr th {\n",
       "        vertical-align: top;\n",
       "    }\n",
       "\n",
       "    .dataframe thead th {\n",
       "        text-align: right;\n",
       "    }\n",
       "</style>\n",
       "<table border=\"1\" class=\"dataframe\">\n",
       "  <thead>\n",
       "    <tr style=\"text-align: right;\">\n",
       "      <th></th>\n",
       "      <th>return_value</th>\n",
       "      <th>dividend_size</th>\n",
       "      <th>divisor_size</th>\n",
       "      <th>runtime</th>\n",
       "    </tr>\n",
       "  </thead>\n",
       "  <tbody>\n",
       "    <tr>\n",
       "      <th>0</th>\n",
       "      <td>1</td>\n",
       "      <td>10000</td>\n",
       "      <td>2</td>\n",
       "      <td>6</td>\n",
       "    </tr>\n",
       "    <tr>\n",
       "      <th>1</th>\n",
       "      <td>1</td>\n",
       "      <td>10000</td>\n",
       "      <td>3</td>\n",
       "      <td>7</td>\n",
       "    </tr>\n",
       "    <tr>\n",
       "      <th>2</th>\n",
       "      <td>1</td>\n",
       "      <td>10000</td>\n",
       "      <td>4</td>\n",
       "      <td>9</td>\n",
       "    </tr>\n",
       "    <tr>\n",
       "      <th>3</th>\n",
       "      <td>1</td>\n",
       "      <td>10000</td>\n",
       "      <td>5</td>\n",
       "      <td>10</td>\n",
       "    </tr>\n",
       "    <tr>\n",
       "      <th>4</th>\n",
       "      <td>1</td>\n",
       "      <td>10000</td>\n",
       "      <td>6</td>\n",
       "      <td>12</td>\n",
       "    </tr>\n",
       "    <tr>\n",
       "      <th>...</th>\n",
       "      <td>...</td>\n",
       "      <td>...</td>\n",
       "      <td>...</td>\n",
       "      <td>...</td>\n",
       "    </tr>\n",
       "    <tr>\n",
       "      <th>9993</th>\n",
       "      <td>1</td>\n",
       "      <td>10000</td>\n",
       "      <td>9995</td>\n",
       "      <td>92</td>\n",
       "    </tr>\n",
       "    <tr>\n",
       "      <th>9994</th>\n",
       "      <td>1</td>\n",
       "      <td>10000</td>\n",
       "      <td>9996</td>\n",
       "      <td>92</td>\n",
       "    </tr>\n",
       "    <tr>\n",
       "      <th>9995</th>\n",
       "      <td>1</td>\n",
       "      <td>10000</td>\n",
       "      <td>9997</td>\n",
       "      <td>92</td>\n",
       "    </tr>\n",
       "    <tr>\n",
       "      <th>9996</th>\n",
       "      <td>1</td>\n",
       "      <td>10000</td>\n",
       "      <td>9998</td>\n",
       "      <td>89</td>\n",
       "    </tr>\n",
       "    <tr>\n",
       "      <th>9997</th>\n",
       "      <td>1</td>\n",
       "      <td>10000</td>\n",
       "      <td>9999</td>\n",
       "      <td>89</td>\n",
       "    </tr>\n",
       "  </tbody>\n",
       "</table>\n",
       "<p>9998 rows × 4 columns</p>\n",
       "</div>"
      ],
      "text/plain": [
       "      return_value  dividend_size  divisor_size  runtime\n",
       "0                1          10000             2        6\n",
       "1                1          10000             3        7\n",
       "2                1          10000             4        9\n",
       "3                1          10000             5       10\n",
       "4                1          10000             6       12\n",
       "...            ...            ...           ...      ...\n",
       "9993             1          10000          9995       92\n",
       "9994             1          10000          9996       92\n",
       "9995             1          10000          9997       92\n",
       "9996             1          10000          9998       89\n",
       "9997             1          10000          9999       89\n",
       "\n",
       "[9998 rows x 4 columns]"
      ]
     },
     "execution_count": 226,
     "metadata": {},
     "output_type": "execute_result"
    }
   ],
   "source": [
    "divisor_df = pd.read_csv('divisor_log.txt', header=None)\n",
    "divisor_df = pd.DataFrame(divisor_df[0].str.split().tolist()).astype(int) \n",
    "divisor_df.columns = ['return_value', 'dividend_size', 'divisor_size','runtime'] \n",
    "divisor_df"
   ]
  },
  {
   "cell_type": "markdown",
   "metadata": {},
   "source": [
    "## Fit 2nd Order Polynomial to Dataset - $F(m) \\approx - m^2 + m$"
   ]
  },
  {
   "cell_type": "markdown",
   "metadata": {},
   "source": [
    "## Plot with $F(m)$\n",
    "We observe a negative quadratic relationship with a trace amount of extreme runtimes."
   ]
  },
  {
   "cell_type": "code",
   "execution_count": 233,
   "metadata": {},
   "outputs": [
    {
     "name": "stdout",
     "output_type": "stream",
     "text": [
      "                            OLS Regression Results                            \n",
      "==============================================================================\n",
      "Dep. Variable:                runtime   R-squared:                       0.993\n",
      "Model:                            OLS   Adj. R-squared:                  0.993\n",
      "Method:                 Least Squares   F-statistic:                 7.029e+05\n",
      "Date:                Sat, 20 Feb 2021   Prob (F-statistic):               0.00\n",
      "Time:                        17:08:22   Log-Likelihood:                -59863.\n",
      "No. Observations:                9998   AIC:                         1.197e+05\n",
      "Df Residuals:                    9995   BIC:                         1.198e+05\n",
      "Df Model:                           2                                         \n",
      "Covariance Type:            nonrobust                                         \n",
      "=======================================================================================\n",
      "                          coef    std err          t      P>|t|      [0.025      0.975]\n",
      "---------------------------------------------------------------------------------------\n",
      "Intercept             -11.2542      2.895     -3.888      0.000     -16.928      -5.580\n",
      "divisor_size            1.5413      0.001   1153.020      0.000       1.539       1.544\n",
      "divisor_size_square    -0.0002   1.29e-07  -1185.474      0.000      -0.000      -0.000\n",
      "==============================================================================\n",
      "Omnibus:                    20503.866   Durbin-Watson:                   0.991\n",
      "Prob(Omnibus):                  0.000   Jarque-Bera (JB):        198180670.199\n",
      "Skew:                          16.702   Prob(JB):                         0.00\n",
      "Kurtosis:                     691.922   Cond. No.                     1.34e+08\n",
      "==============================================================================\n",
      "\n",
      "Notes:\n",
      "[1] Standard Errors assume that the covariance matrix of the errors is correctly specified.\n",
      "[2] The condition number is large, 1.34e+08. This might indicate that there are\n",
      "strong multicollinearity or other numerical problems.\n"
     ]
    },
    {
     "data": {
      "image/png": "[encoded data removed]",
      "text/plain": [
       "<Figure size 432x288 with 1 Axes>"
      ]
     },
     "metadata": {
      "needs_background": "light"
     },
     "output_type": "display_data"
    }
   ],
   "source": [
    "divisor_df['divisor_size_square'] = divisor_df['divisor_size']**2\n",
    "results = smf.ols(formula='runtime ~ divisor_size + divisor_size_square', data=divisor_df).fit()\n",
    "divisor_df['regression'] = results.fittedvalues\n",
    "plt.scatter(divisor_df['divisor_size'], divisor_df['runtime'], color='orange') \n",
    "plt.plot(divisor_df['divisor_size'], divisor_df['regression'], color='green')\n",
    "plt.title('Runtime (ms): m = 2 to 9999, n = 10000')\n",
    "plt.xlabel('Divisor Size (m)')\n",
    "plt.ylabel('Runtime (ms)')\n",
    "print(results.summary())\n",
    "plt.savefig('divisor.png')"
   ]
  },
  {
   "cell_type": "code",
   "execution_count": 228,
   "metadata": {},
   "outputs": [
    {
     "name": "stdout",
     "output_type": "stream",
     "text": [
      "Intercept               -10.641769\n",
      "divisor_size           4800.934142\n",
      "divisor_size_square   -4927.562043\n",
      "dtype: float64\n"
     ]
    }
   ],
   "source": [
    "print(results.tvalues)"
   ]
  },
  {
   "cell_type": "markdown",
   "metadata": {},
   "source": [
    "## Evaluate $F(m)$ Error Behavior"
   ]
  },
  {
   "cell_type": "code",
   "execution_count": 229,
   "metadata": {},
   "outputs": [
    {
     "data": {
      "image/png": "[encoded data removed]",
      "text/plain": [
       "<Figure size 432x288 with 1 Axes>"
      ]
     },
     "metadata": {
      "needs_background": "light"
     },
     "output_type": "display_data"
    }
   ],
   "source": [
    "divisor_df['runtime'] = divisor_df['runtime'].replace(0, .1)\n",
    "divisor_df['pct_err'] = 100*(divisor_df['regression'] - divisor_df['runtime'])/divisor_df['runtime']\n",
    "plt.hist(divisor_df['pct_err'], bins=100)\n",
    "plt.title('Divisor Regression Percent Error Histogram')\n",
    "plt.xlabel('Percent Error')\n",
    "plt.ylabel('Occurrences')\n",
    "plt.savefig('divisor_hist.png')"
   ]
  },
  {
   "cell_type": "markdown",
   "metadata": {},
   "source": [
    "## Sample Statistical Moments\n",
    "Sample moments indicate extremely high peak with very large tails, and strong negative skew - tendency to underestimate runtimes¶"
   ]
  },
  {
   "cell_type": "code",
   "execution_count": 230,
   "metadata": {},
   "outputs": [
    {
     "name": "stdout",
     "output_type": "stream",
     "text": [
      "Mean = -1.023\n",
      "Variance = 20.46\n",
      "Skew = -14.944\n",
      "Kurtosis = 392.214\n"
     ]
    }
   ],
   "source": [
    "print(f'Mean = {round(np.mean(divisor_df[\"pct_err\"]), 3)}')\n",
    "print(f'Variance = {round(np.var(divisor_df[\"pct_err\"]), 3)}')\n",
    "print(f'Skew = {round(skew(divisor_df[\"pct_err\"]), 3)}')\n",
    "print(f'Kurtosis = {round(kurtosis(divisor_df[\"pct_err\"]), 3)}')"
   ]
  },
  {
   "cell_type": "code",
   "execution_count": 231,
   "metadata": {},
   "outputs": [
    {
     "data": {
      "text/plain": [
       "count    9998.000000\n",
       "mean       -1.022890\n",
       "std         4.523513\n",
       "min      -170.852042\n",
       "25%        -0.917821\n",
       "50%         0.124972\n",
       "75%         0.530660\n",
       "max         6.639792\n",
       "Name: pct_err, dtype: float64"
      ]
     },
     "execution_count": 231,
     "metadata": {},
     "output_type": "execute_result"
    }
   ],
   "source": [
    "divisor_df['pct_err'].describe()"
   ]
  }
 ],
 "metadata": {
  "kernelspec": {
   "display_name": "Python 3",
   "language": "python",
   "name": "python3"
  },
  "language_info": {
   "codemirror_mode": {
    "name": "ipython",
    "version": 3
   },
   "file_extension": ".py",
   "mimetype": "text/x-python",
   "name": "python",
   "nbconvert_exporter": "python",
   "pygments_lexer": "ipython3",
   "version": "3.8.3"
  }
 },
 "nbformat": 4,
 "nbformat_minor": 4
}
