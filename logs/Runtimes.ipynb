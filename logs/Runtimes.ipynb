{
 "cells": [
  {
   "cell_type": "markdown",
   "metadata": {},
   "source": [
    "# Statistical Analysis of Empirical Runtime Data\n",
    "We will analyze two datasets to evaluate the empirical behavior of the algorithm: one in which the divisor size $m$ is \n",
    "held constant and the dividend size $n$ varies, and the other in which the dividend size $n$ is held constant and the\n",
    "divisor size $m$ varies.\n",
    "\n",
    "Assuming arithmetic operations have complexity $\\mathcal{O}(m)$, we expect to see behavior approximately modeled by \n",
    "\n",
    "$$F_1(n,m) = m(n-m) = nm - m^2$$\n",
    "\n",
    "For constant $m$, we expect to observe a positive linear relationship between $n$ and runtime:\n",
    "\n",
    "$$F(n) \\approx n$$\n",
    "\n",
    "For constant $n$, we expect to observe an inverse quadratic relationship between $m$ and runtime:\n",
    "\n",
    "$$F(m) \\approx - m^2 + m$$"
   ]
  },
  {
   "cell_type": "code",
   "execution_count": 18,
   "metadata": {},
   "outputs": [],
   "source": [
    "import pandas as pd\n",
    "import numpy as np\n",
    "from matplotlib import pyplot as plt\n",
    "from scipy.stats import skew, kurtosis, kurtosistest\n",
    "import statsmodels.api as sm\n",
    "import statsmodels.formula.api as smf\n",
    "from scipy.stats import shapiro\n",
    "%matplotlib inline"
   ]
  },
  {
   "cell_type": "markdown",
   "metadata": {},
   "source": [
    "# Variable Dividend Size: $n = \\{12, 13, ..., 10000\\}, m = 10$"
   ]
  },
  {
   "cell_type": "code",
   "execution_count": 19,
   "metadata": {},
   "outputs": [
    {
     "data": {
      "text/html": [
       "<div>\n",
       "<style scoped>\n",
       "    .dataframe tbody tr th:only-of-type {\n",
       "        vertical-align: middle;\n",
       "    }\n",
       "\n",
       "    .dataframe tbody tr th {\n",
       "        vertical-align: top;\n",
       "    }\n",
       "\n",
       "    .dataframe thead th {\n",
       "        text-align: right;\n",
       "    }\n",
       "</style>\n",
       "<table border=\"1\" class=\"dataframe\">\n",
       "  <thead>\n",
       "    <tr style=\"text-align: right;\">\n",
       "      <th></th>\n",
       "      <th>return_value</th>\n",
       "      <th>dividend_size</th>\n",
       "      <th>divisor_size</th>\n",
       "      <th>runtime</th>\n",
       "      <th>len_diff</th>\n",
       "    </tr>\n",
       "  </thead>\n",
       "  <tbody>\n",
       "    <tr>\n",
       "      <th>0</th>\n",
       "      <td>1</td>\n",
       "      <td>10000</td>\n",
       "      <td>1</td>\n",
       "      <td>6</td>\n",
       "      <td>9999</td>\n",
       "    </tr>\n",
       "    <tr>\n",
       "      <th>1</th>\n",
       "      <td>1</td>\n",
       "      <td>9999</td>\n",
       "      <td>2</td>\n",
       "      <td>6</td>\n",
       "      <td>9997</td>\n",
       "    </tr>\n",
       "    <tr>\n",
       "      <th>2</th>\n",
       "      <td>1</td>\n",
       "      <td>9998</td>\n",
       "      <td>3</td>\n",
       "      <td>7</td>\n",
       "      <td>9995</td>\n",
       "    </tr>\n",
       "    <tr>\n",
       "      <th>3</th>\n",
       "      <td>1</td>\n",
       "      <td>9997</td>\n",
       "      <td>4</td>\n",
       "      <td>9</td>\n",
       "      <td>9993</td>\n",
       "    </tr>\n",
       "    <tr>\n",
       "      <th>4</th>\n",
       "      <td>1</td>\n",
       "      <td>9996</td>\n",
       "      <td>5</td>\n",
       "      <td>11</td>\n",
       "      <td>9991</td>\n",
       "    </tr>\n",
       "    <tr>\n",
       "      <th>...</th>\n",
       "      <td>...</td>\n",
       "      <td>...</td>\n",
       "      <td>...</td>\n",
       "      <td>...</td>\n",
       "      <td>...</td>\n",
       "    </tr>\n",
       "    <tr>\n",
       "      <th>1427</th>\n",
       "      <td>1</td>\n",
       "      <td>8573</td>\n",
       "      <td>1428</td>\n",
       "      <td>1510</td>\n",
       "      <td>7145</td>\n",
       "    </tr>\n",
       "    <tr>\n",
       "      <th>1428</th>\n",
       "      <td>1</td>\n",
       "      <td>8572</td>\n",
       "      <td>1429</td>\n",
       "      <td>1509</td>\n",
       "      <td>7143</td>\n",
       "    </tr>\n",
       "    <tr>\n",
       "      <th>1429</th>\n",
       "      <td>1</td>\n",
       "      <td>8571</td>\n",
       "      <td>1430</td>\n",
       "      <td>1505</td>\n",
       "      <td>7141</td>\n",
       "    </tr>\n",
       "    <tr>\n",
       "      <th>1430</th>\n",
       "      <td>1</td>\n",
       "      <td>8570</td>\n",
       "      <td>1431</td>\n",
       "      <td>1524</td>\n",
       "      <td>7139</td>\n",
       "    </tr>\n",
       "    <tr>\n",
       "      <th>1431</th>\n",
       "      <td>1</td>\n",
       "      <td>8569</td>\n",
       "      <td>1432</td>\n",
       "      <td>1558</td>\n",
       "      <td>7137</td>\n",
       "    </tr>\n",
       "  </tbody>\n",
       "</table>\n",
       "<p>1432 rows × 5 columns</p>\n",
       "</div>"
      ],
      "text/plain": [
       "      return_value  dividend_size  divisor_size  runtime  len_diff\n",
       "0                1          10000             1        6      9999\n",
       "1                1           9999             2        6      9997\n",
       "2                1           9998             3        7      9995\n",
       "3                1           9997             4        9      9993\n",
       "4                1           9996             5       11      9991\n",
       "...            ...            ...           ...      ...       ...\n",
       "1427             1           8573          1428     1510      7145\n",
       "1428             1           8572          1429     1509      7143\n",
       "1429             1           8571          1430     1505      7141\n",
       "1430             1           8570          1431     1524      7139\n",
       "1431             1           8569          1432     1558      7137\n",
       "\n",
       "[1432 rows x 5 columns]"
      ]
     },
     "execution_count": 19,
     "metadata": {},
     "output_type": "execute_result"
    }
   ],
   "source": [
    "dividend_df = pd.read_csv('dividend_log.txt', header=None)\n",
    "dividend_df = pd.DataFrame(dividend_df[0].str.split().tolist()).astype(int)\n",
    "dividend_df.columns = ['return_value', 'dividend_size', 'divisor_size', 'runtime']\n",
    "dividend_df['len_diff'] = dividend_df['dividend_size'] - dividend_df['divisor_size']\n",
    "dividend_df"
   ]
  },
  {
   "cell_type": "markdown",
   "metadata": {},
   "source": [
    "## Plot with $F(n)$\n",
    "We observe a positive, approximately linear relationship with a fair amount of longer runtimes."
   ]
  },
  {
   "cell_type": "code",
   "execution_count": 20,
   "metadata": {},
   "outputs": [
    {
     "name": "stdout",
     "output_type": "stream",
     "text": [
      "                            OLS Regression Results                            \n",
      "==============================================================================\n",
      "Dep. Variable:                runtime   R-squared:                       0.574\n",
      "Model:                            OLS   Adj. R-squared:                  0.574\n",
      "Method:                 Least Squares   F-statistic:                     1927.\n",
      "Date:                Mon, 22 Feb 2021   Prob (F-statistic):          2.76e-267\n",
      "Time:                        10:47:26   Log-Likelihood:                -10623.\n",
      "No. Observations:                1432   AIC:                         2.125e+04\n",
      "Df Residuals:                    1430   BIC:                         2.126e+04\n",
      "Df Model:                           1                                         \n",
      "Covariance Type:            nonrobust                                         \n",
      "==============================================================================\n",
      "                 coef    std err          t      P>|t|      [0.025      0.975]\n",
      "------------------------------------------------------------------------------\n",
      "Intercept   5737.5270    111.013     51.683      0.000    5519.761    5955.293\n",
      "len_diff      -0.5662      0.013    -43.899      0.000      -0.591      -0.541\n",
      "==============================================================================\n",
      "Omnibus:                     4019.789   Durbin-Watson:                   2.000\n",
      "Prob(Omnibus):                  0.000   Jarque-Bera (JB):         95176142.942\n",
      "Skew:                          34.588   Prob(JB):                         0.00\n",
      "Kurtosis:                    1264.089   Cond. No.                     8.96e+04\n",
      "==============================================================================\n",
      "\n",
      "Notes:\n",
      "[1] Standard Errors assume that the covariance matrix of the errors is correctly specified.\n",
      "[2] The condition number is large, 8.96e+04. This might indicate that there are\n",
      "strong multicollinearity or other numerical problems.\n"
     ]
    },
    {
     "data": {
      "image/png": "[encoded data removed]",
      "text/plain": [
       "<Figure size 432x288 with 1 Axes>"
      ]
     },
     "metadata": {
      "needs_background": "light"
     },
     "output_type": "display_data"
    }
   ],
   "source": [
    "# dividend_df['len_diff_sq'] = dividend_df['len_diff']**2\n",
    "# dividend_df['runtime'] = np.log(dividend_df['runtime'].replace(0, 1))\n",
    "results = smf.ols(formula='runtime ~ len_diff', data=dividend_df).fit()\n",
    "dividend_df['regression'] = results.fittedvalues\n",
    "dividend_df['error'] = dividend_df['runtime'] - dividend_df['regression']\n",
    "# print(shapiro(dividend_df['error']))\n",
    "plt.scatter(dividend_df['len_diff'], dividend_df['runtime'], color='red') \n",
    "plt.title('F(n): m = 10, n = 12 to 10000')\n",
    "plt.xlabel('Dividend Size (n)')\n",
    "plt.ylabel('Runtime (ms)')\n",
    "plt.plot(dividend_df['dividend_size'], dividend_df['regression'], color='blue')\n",
    "print(results.summary())\n",
    "plt.savefig('dividend.png')"
   ]
  },
  {
   "cell_type": "code",
   "execution_count": 21,
   "metadata": {},
   "outputs": [
    {
     "data": {
      "text/plain": [
       "(array([228., 264., 295., 364., 260.,  11.,   5.,   0.,   2.,   2.,   0.,\n",
       "          0.,   0.,   0.,   0.,   0.,   0.,   0.,   0.,   0.,   0.,   0.,\n",
       "          0.,   0.,   0.,   0.,   0.,   0.,   0.,   0.,   0.,   0.,   0.,\n",
       "          0.,   0.,   0.,   0.,   0.,   0.,   0.,   0.,   0.,   0.,   0.,\n",
       "          0.,   0.,   0.,   0.,   0.,   1.]),\n",
       " array([6.000000e+00, 3.319200e+02, 6.578400e+02, 9.837600e+02,\n",
       "        1.309680e+03, 1.635600e+03, 1.961520e+03, 2.287440e+03,\n",
       "        2.613360e+03, 2.939280e+03, 3.265200e+03, 3.591120e+03,\n",
       "        3.917040e+03, 4.242960e+03, 4.568880e+03, 4.894800e+03,\n",
       "        5.220720e+03, 5.546640e+03, 5.872560e+03, 6.198480e+03,\n",
       "        6.524400e+03, 6.850320e+03, 7.176240e+03, 7.502160e+03,\n",
       "        7.828080e+03, 8.154000e+03, 8.479920e+03, 8.805840e+03,\n",
       "        9.131760e+03, 9.457680e+03, 9.783600e+03, 1.010952e+04,\n",
       "        1.043544e+04, 1.076136e+04, 1.108728e+04, 1.141320e+04,\n",
       "        1.173912e+04, 1.206504e+04, 1.239096e+04, 1.271688e+04,\n",
       "        1.304280e+04, 1.336872e+04, 1.369464e+04, 1.402056e+04,\n",
       "        1.434648e+04, 1.467240e+04, 1.499832e+04, 1.532424e+04,\n",
       "        1.565016e+04, 1.597608e+04, 1.630200e+04]),\n",
       " <a list of 50 Patch objects>)"
      ]
     },
     "execution_count": 21,
     "metadata": {},
     "output_type": "execute_result"
    },
    {
     "data": {
      "image/png": "[encoded data removed]",
      "text/plain": [
       "<Figure size 432x288 with 1 Axes>"
      ]
     },
     "metadata": {
      "needs_background": "light"
     },
     "output_type": "display_data"
    }
   ],
   "source": [
    "plt.hist(dividend_df['runtime'], bins=50)"
   ]
  },
  {
   "cell_type": "code",
   "execution_count": 22,
   "metadata": {},
   "outputs": [
    {
     "name": "stdout",
     "output_type": "stream",
     "text": [
      "runtime skew = 10.854739740962625\n",
      "runtime kurtosis 271.6154578427419\n"
     ]
    }
   ],
   "source": [
    "print(f'runtime skew = {skew(dividend_df[\"runtime\"])}')\n",
    "print(f'runtime kurtosis {kurtosis(dividend_df[\"runtime\"], fisher=False)}')"
   ]
  },
  {
   "cell_type": "code",
   "execution_count": 23,
   "metadata": {},
   "outputs": [
    {
     "data": {
      "text/plain": [
       "Intercept    51.683245\n",
       "len_diff    -43.899274\n",
       "dtype: float64"
      ]
     },
     "execution_count": 23,
     "metadata": {},
     "output_type": "execute_result"
    }
   ],
   "source": [
    "results.tvalues"
   ]
  },
  {
   "cell_type": "markdown",
   "metadata": {},
   "source": [
    "## Evaluate $F(n)$ Error Behavior"
   ]
  },
  {
   "cell_type": "code",
   "execution_count": 24,
   "metadata": {},
   "outputs": [
    {
     "data": {
      "image/png": "[encoded data removed]",
      "text/plain": [
       "<Figure size 432x288 with 1 Axes>"
      ]
     },
     "metadata": {
      "needs_background": "light"
     },
     "output_type": "display_data"
    }
   ],
   "source": [
    "dividend_df['runtime'] = dividend_df['runtime'].replace(0, .1)  # Avoid division by 0\n",
    "dividend_df['pct_err'] = 100*(dividend_df['regression'] - dividend_df['runtime'])/dividend_df['runtime']\n",
    "hist = np.histogram(dividend_df['pct_err'], 100)\n",
    "plt.hist(dividend_df['pct_err'], bins=100)\n",
    "plt.title('Dividend Regression Percent Percent Error Histogram')\n",
    "plt.xlabel('Percent Error')\n",
    "plt.ylabel('Occurrences')\n",
    "plt.savefig('dividend_hist.png')"
   ]
  },
  {
   "cell_type": "markdown",
   "metadata": {},
   "source": [
    "## Sample Statistical Moments\n",
    "Sample moments indicate high peak with large tails, and slight negative skew - a tendency to underestimate runtimes."
   ]
  },
  {
   "cell_type": "code",
   "execution_count": 25,
   "metadata": {},
   "outputs": [
    {
     "name": "stdout",
     "output_type": "stream",
     "text": [
      "1st ORDER REGRESSION PERCENT ERROR:\n",
      "Mean = 11.529\n",
      "Variance = 5007.277\n",
      "Skew = 11.254\n",
      "Kurtosis = 154.075\n"
     ]
    }
   ],
   "source": [
    "print('1st ORDER REGRESSION PERCENT ERROR:')\n",
    "print(f'Mean = {round(np.mean(dividend_df[\"pct_err\"]), 3)}')\n",
    "print(f'Variance = {round(np.var(dividend_df[\"pct_err\"]), 3)}')\n",
    "print(f'Skew = {round(skew(dividend_df[\"pct_err\"]), 3)}')\n",
    "print(f'Kurtosis = {round(kurtosis(dividend_df[\"pct_err\"]), 3)}')"
   ]
  },
  {
   "cell_type": "code",
   "execution_count": 26,
   "metadata": {},
   "outputs": [
    {
     "data": {
      "text/plain": [
       "count    1432.000000\n",
       "mean       11.529315\n",
       "std        70.786838\n",
       "min       -90.717044\n",
       "25%        -2.832705\n",
       "50%         0.634864\n",
       "75%         5.884113\n",
       "max      1191.531614\n",
       "Name: pct_err, dtype: float64"
      ]
     },
     "execution_count": 26,
     "metadata": {},
     "output_type": "execute_result"
    }
   ],
   "source": [
    "dividend_df['pct_err'].describe()"
   ]
  },
  {
   "cell_type": "markdown",
   "metadata": {},
   "source": [
    "# Variable Divisor Size: $m = \\{2, 3, ..., 9999\\}, n = 10000$"
   ]
  },
  {
   "cell_type": "code",
   "execution_count": 27,
   "metadata": {},
   "outputs": [
    {
     "data": {
      "text/html": [
       "<div>\n",
       "<style scoped>\n",
       "    .dataframe tbody tr th:only-of-type {\n",
       "        vertical-align: middle;\n",
       "    }\n",
       "\n",
       "    .dataframe tbody tr th {\n",
       "        vertical-align: top;\n",
       "    }\n",
       "\n",
       "    .dataframe thead th {\n",
       "        text-align: right;\n",
       "    }\n",
       "</style>\n",
       "<table border=\"1\" class=\"dataframe\">\n",
       "  <thead>\n",
       "    <tr style=\"text-align: right;\">\n",
       "      <th></th>\n",
       "      <th>return_value</th>\n",
       "      <th>dividend_size</th>\n",
       "      <th>divisor_size</th>\n",
       "      <th>runtime</th>\n",
       "    </tr>\n",
       "  </thead>\n",
       "  <tbody>\n",
       "    <tr>\n",
       "      <th>0</th>\n",
       "      <td>1</td>\n",
       "      <td>10000</td>\n",
       "      <td>2</td>\n",
       "      <td>6</td>\n",
       "    </tr>\n",
       "    <tr>\n",
       "      <th>1</th>\n",
       "      <td>1</td>\n",
       "      <td>10000</td>\n",
       "      <td>3</td>\n",
       "      <td>7</td>\n",
       "    </tr>\n",
       "    <tr>\n",
       "      <th>2</th>\n",
       "      <td>1</td>\n",
       "      <td>10000</td>\n",
       "      <td>4</td>\n",
       "      <td>9</td>\n",
       "    </tr>\n",
       "    <tr>\n",
       "      <th>3</th>\n",
       "      <td>1</td>\n",
       "      <td>10000</td>\n",
       "      <td>5</td>\n",
       "      <td>10</td>\n",
       "    </tr>\n",
       "    <tr>\n",
       "      <th>4</th>\n",
       "      <td>1</td>\n",
       "      <td>10000</td>\n",
       "      <td>6</td>\n",
       "      <td>12</td>\n",
       "    </tr>\n",
       "    <tr>\n",
       "      <th>...</th>\n",
       "      <td>...</td>\n",
       "      <td>...</td>\n",
       "      <td>...</td>\n",
       "      <td>...</td>\n",
       "    </tr>\n",
       "    <tr>\n",
       "      <th>9993</th>\n",
       "      <td>1</td>\n",
       "      <td>10000</td>\n",
       "      <td>9995</td>\n",
       "      <td>92</td>\n",
       "    </tr>\n",
       "    <tr>\n",
       "      <th>9994</th>\n",
       "      <td>1</td>\n",
       "      <td>10000</td>\n",
       "      <td>9996</td>\n",
       "      <td>92</td>\n",
       "    </tr>\n",
       "    <tr>\n",
       "      <th>9995</th>\n",
       "      <td>1</td>\n",
       "      <td>10000</td>\n",
       "      <td>9997</td>\n",
       "      <td>92</td>\n",
       "    </tr>\n",
       "    <tr>\n",
       "      <th>9996</th>\n",
       "      <td>1</td>\n",
       "      <td>10000</td>\n",
       "      <td>9998</td>\n",
       "      <td>89</td>\n",
       "    </tr>\n",
       "    <tr>\n",
       "      <th>9997</th>\n",
       "      <td>1</td>\n",
       "      <td>10000</td>\n",
       "      <td>9999</td>\n",
       "      <td>89</td>\n",
       "    </tr>\n",
       "  </tbody>\n",
       "</table>\n",
       "<p>9998 rows × 4 columns</p>\n",
       "</div>"
      ],
      "text/plain": [
       "      return_value  dividend_size  divisor_size  runtime\n",
       "0                1          10000             2        6\n",
       "1                1          10000             3        7\n",
       "2                1          10000             4        9\n",
       "3                1          10000             5       10\n",
       "4                1          10000             6       12\n",
       "...            ...            ...           ...      ...\n",
       "9993             1          10000          9995       92\n",
       "9994             1          10000          9996       92\n",
       "9995             1          10000          9997       92\n",
       "9996             1          10000          9998       89\n",
       "9997             1          10000          9999       89\n",
       "\n",
       "[9998 rows x 4 columns]"
      ]
     },
     "execution_count": 27,
     "metadata": {},
     "output_type": "execute_result"
    }
   ],
   "source": [
    "divisor_df = pd.read_csv('divisor_log.txt', header=None)\n",
    "divisor_df = pd.DataFrame(divisor_df[0].str.split().tolist()).astype(int) \n",
    "divisor_df.columns = ['return_value', 'dividend_size', 'divisor_size','runtime'] \n",
    "divisor_df"
   ]
  },
  {
   "cell_type": "markdown",
   "metadata": {},
   "source": [
    "## Fit 2nd Order Polynomial to Dataset - $F(m) \\approx - m^2 + m$"
   ]
  },
  {
   "cell_type": "markdown",
   "metadata": {},
   "source": [
    "## Plot with $F(m)$\n",
    "We observe a negative quadratic relationship with a trace amount of extreme runtimes."
   ]
  },
  {
   "cell_type": "code",
   "execution_count": 28,
   "metadata": {},
   "outputs": [
    {
     "name": "stdout",
     "output_type": "stream",
     "text": [
      "                            OLS Regression Results                            \n",
      "==============================================================================\n",
      "Dep. Variable:                runtime   R-squared:                       0.993\n",
      "Model:                            OLS   Adj. R-squared:                  0.993\n",
      "Method:                 Least Squares   F-statistic:                 7.029e+05\n",
      "Date:                Mon, 22 Feb 2021   Prob (F-statistic):               0.00\n",
      "Time:                        10:47:27   Log-Likelihood:                -59863.\n",
      "No. Observations:                9998   AIC:                         1.197e+05\n",
      "Df Residuals:                    9995   BIC:                         1.198e+05\n",
      "Df Model:                           2                                         \n",
      "Covariance Type:            nonrobust                                         \n",
      "=======================================================================================\n",
      "                          coef    std err          t      P>|t|      [0.025      0.975]\n",
      "---------------------------------------------------------------------------------------\n",
      "Intercept             -11.2542      2.895     -3.888      0.000     -16.928      -5.580\n",
      "divisor_size            1.5413      0.001   1153.020      0.000       1.539       1.544\n",
      "divisor_size_square    -0.0002   1.29e-07  -1185.474      0.000      -0.000      -0.000\n",
      "==============================================================================\n",
      "Omnibus:                    20503.866   Durbin-Watson:                   0.991\n",
      "Prob(Omnibus):                  0.000   Jarque-Bera (JB):        198180670.199\n",
      "Skew:                          16.702   Prob(JB):                         0.00\n",
      "Kurtosis:                     691.922   Cond. No.                     1.34e+08\n",
      "==============================================================================\n",
      "\n",
      "Notes:\n",
      "[1] Standard Errors assume that the covariance matrix of the errors is correctly specified.\n",
      "[2] The condition number is large, 1.34e+08. This might indicate that there are\n",
      "strong multicollinearity or other numerical problems.\n"
     ]
    },
    {
     "data": {
      "image/png": "[encoded data removed]",
      "text/plain": [
       "<Figure size 432x288 with 1 Axes>"
      ]
     },
     "metadata": {
      "needs_background": "light"
     },
     "output_type": "display_data"
    }
   ],
   "source": [
    "divisor_df['divisor_size_square'] = divisor_df['divisor_size']**2\n",
    "results = smf.ols(formula='runtime ~ divisor_size + divisor_size_square', data=divisor_df).fit()\n",
    "divisor_df['regression'] = results.fittedvalues\n",
    "plt.scatter(divisor_df['divisor_size'], divisor_df['runtime'], color='orange') \n",
    "plt.plot(divisor_df['divisor_size'], divisor_df['regression'], color='green')\n",
    "plt.title('Runtime (ms): m = 2 to 9999, n = 10000')\n",
    "plt.xlabel('Divisor Size (m)')\n",
    "plt.ylabel('Runtime (ms)')\n",
    "print(results.summary())\n",
    "plt.savefig('divisor.png')"
   ]
  },
  {
   "cell_type": "code",
   "execution_count": 29,
   "metadata": {},
   "outputs": [
    {
     "data": {
      "text/plain": [
       "(array([3.320e+02, 4.080e+02, 4.320e+02, 4.470e+02, 4.680e+02, 5.020e+02,\n",
       "        5.290e+02, 5.990e+02, 6.510e+02, 6.890e+02, 5.840e+02, 1.206e+03,\n",
       "        1.940e+03, 1.117e+03, 7.800e+01, 1.000e+01, 3.000e+00, 1.000e+00,\n",
       "        0.000e+00, 0.000e+00, 0.000e+00, 1.000e+00, 0.000e+00, 0.000e+00,\n",
       "        0.000e+00, 0.000e+00, 0.000e+00, 0.000e+00, 0.000e+00, 1.000e+00]),\n",
       " array([6.00000000e+00, 2.95166667e+02, 5.84333333e+02, 8.73500000e+02,\n",
       "        1.16266667e+03, 1.45183333e+03, 1.74100000e+03, 2.03016667e+03,\n",
       "        2.31933333e+03, 2.60850000e+03, 2.89766667e+03, 3.18683333e+03,\n",
       "        3.47600000e+03, 3.76516667e+03, 4.05433333e+03, 4.34350000e+03,\n",
       "        4.63266667e+03, 4.92183333e+03, 5.21100000e+03, 5.50016667e+03,\n",
       "        5.78933333e+03, 6.07850000e+03, 6.36766667e+03, 6.65683333e+03,\n",
       "        6.94600000e+03, 7.23516667e+03, 7.52433333e+03, 7.81350000e+03,\n",
       "        8.10266667e+03, 8.39183333e+03, 8.68100000e+03]),\n",
       " <a list of 30 Patch objects>)"
      ]
     },
     "execution_count": 29,
     "metadata": {},
     "output_type": "execute_result"
    },
    {
     "data": {
      "image/png": "[encoded data removed]",
      "text/plain": [
       "<Figure size 432x288 with 1 Axes>"
      ]
     },
     "metadata": {
      "needs_background": "light"
     },
     "output_type": "display_data"
    }
   ],
   "source": [
    "plt.hist(divisor_df['runtime'], bins=30)"
   ]
  },
  {
   "cell_type": "code",
   "execution_count": 30,
   "metadata": {},
   "outputs": [
    {
     "name": "stdout",
     "output_type": "stream",
     "text": [
      "runtime skew = -0.5906818055727012\n",
      "runtime kurtosis 2.1884923856929657\n"
     ]
    }
   ],
   "source": [
    "print(f'runtime skew = {skew(divisor_df[\"runtime\"])}')\n",
    "print(f'runtime kurtosis {kurtosis(divisor_df[\"runtime\"], fisher=False)}')"
   ]
  },
  {
   "cell_type": "code",
   "execution_count": 31,
   "metadata": {},
   "outputs": [
    {
     "name": "stdout",
     "output_type": "stream",
     "text": [
      "Intercept                -3.888035\n",
      "divisor_size           1153.020022\n",
      "divisor_size_square   -1185.473905\n",
      "dtype: float64\n"
     ]
    }
   ],
   "source": [
    "print(results.tvalues)"
   ]
  },
  {
   "cell_type": "markdown",
   "metadata": {},
   "source": [
    "## Evaluate $F(m)$ Error Behavior"
   ]
  },
  {
   "cell_type": "code",
   "execution_count": 32,
   "metadata": {},
   "outputs": [
    {
     "data": {
      "image/png": "[encoded data removed]",
      "text/plain": [
       "<Figure size 432x288 with 1 Axes>"
      ]
     },
     "metadata": {
      "needs_background": "light"
     },
     "output_type": "display_data"
    }
   ],
   "source": [
    "divisor_df['runtime'] = divisor_df['runtime'].replace(0, .1)\n",
    "divisor_df['pct_err'] = 100*(divisor_df['regression'] - divisor_df['runtime'])/divisor_df['runtime']\n",
    "plt.hist(divisor_df['pct_err'], bins=100)\n",
    "plt.title('Divisor Regression Percent Error Histogram')\n",
    "plt.xlabel('Percent Error')\n",
    "plt.ylabel('Occurrences')\n",
    "plt.savefig('divisor_hist.png')"
   ]
  },
  {
   "cell_type": "markdown",
   "metadata": {},
   "source": [
    "## Sample Statistical Moments\n",
    "Sample moments indicate extremely high peak with very large tails, and strong negative skew - tendency to underestimate runtimes¶"
   ]
  },
  {
   "cell_type": "code",
   "execution_count": 33,
   "metadata": {},
   "outputs": [
    {
     "name": "stdout",
     "output_type": "stream",
     "text": [
      "Mean = -0.584\n",
      "Variance = 35.824\n",
      "Skew = -16.527\n",
      "Kurtosis = 469.98\n"
     ]
    }
   ],
   "source": [
    "print(f'Mean = {round(np.mean(divisor_df[\"pct_err\"]), 3)}')\n",
    "print(f'Variance = {round(np.var(divisor_df[\"pct_err\"]), 3)}')\n",
    "print(f'Skew = {round(skew(divisor_df[\"pct_err\"]), 3)}')\n",
    "print(f'Kurtosis = {round(kurtosis(divisor_df[\"pct_err\"]), 3)}')"
   ]
  },
  {
   "cell_type": "code",
   "execution_count": 34,
   "metadata": {},
   "outputs": [
    {
     "data": {
      "text/plain": [
       "count    9998.000000\n",
       "mean       -0.583528\n",
       "std         5.985617\n",
       "min      -236.202631\n",
       "25%        -1.337240\n",
       "50%         1.022642\n",
       "75%         1.655003\n",
       "max         3.176226\n",
       "Name: pct_err, dtype: float64"
      ]
     },
     "execution_count": 34,
     "metadata": {},
     "output_type": "execute_result"
    }
   ],
   "source": [
    "divisor_df['pct_err'].describe()"
   ]
  }
 ],
 "metadata": {
  "kernelspec": {
   "display_name": "Python 3",
   "language": "python",
   "name": "python3"
  },
  "language_info": {
   "codemirror_mode": {
    "name": "ipython",
    "version": 3
   },
   "file_extension": ".py",
   "mimetype": "text/x-python",
   "name": "python",
   "nbconvert_exporter": "python",
   "pygments_lexer": "ipython3",
   "version": "3.8.3"
  }
 },
 "nbformat": 4,
 "nbformat_minor": 4
}
